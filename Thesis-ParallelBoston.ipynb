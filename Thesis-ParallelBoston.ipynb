{
 "cells": [
  {
   "cell_type": "code",
   "execution_count": 1,
   "metadata": {},
   "outputs": [],
   "source": [
    "#current_dir = pwd()\n",
    "#app_dir = \"/app\"\n",
    "#cd(app_dir)\n",
    "\n",
    "#push!(LOAD_PATH, app_dir)\n",
    "#push!(LOAD_PATH, current_dir)\n",
    "push!(LOAD_PATH, \"/home/jberez/Projects/BostonHousing/docker-parallel\")\n",
    "\n",
    "using Gen\n",
    "using Distributions\n",
    "using LinearAlgebra\n",
    "using Flux\n",
    "using Random\n",
    "using Distances\n",
    "using JLD\n",
    "using Serialization\n",
    "using StatsBase\n",
    "using BNN\n",
    "\n",
    "include(\"docker-parallel/NUTS.jl\")\n",
    "include(\"docker-parallel/RJNUTS.jl\")\n",
    "include(\"docker-parallel/utils.jl\")\n",
    "include(\"docker-parallel/proposals.jl\")\n",
    "include(\"docker-parallel/LoadData.jl\");"
   ]
  },
  {
   "cell_type": "code",
   "execution_count": 2,
   "metadata": {},
   "outputs": [
    {
     "name": "stdout",
     "output_type": "stream",
     "text": [
      "4\n"
     ]
    }
   ],
   "source": [
    "println(Threads.nthreads())"
   ]
  },
  {
   "cell_type": "code",
   "execution_count": null,
   "metadata": {},
   "outputs": [],
   "source": [
    "function RJNUTS_parallel(trace, chain)\n",
    "    \n",
    "    (trace, a_acc) = layer_parameter(trace)\n",
    "    trace  = gibbs_hyperparameters(trace)\n",
    "    trace  = gibbs_noise(trace)\n",
    "    (trace, w_acc)  = layer_nuts(trace)\n",
    "    println(\"Chain $chain Iter $i : $(get_score(trace))\")\n",
    "\n",
    "    return trace, a_acc, w_acc\n",
    "end"
   ]
  },
  {
   "cell_type": "code",
   "execution_count": null,
   "metadata": {},
   "outputs": [
    {
     "name": "stdout",
     "output_type": "stream",
     "text": [
      "Packages Loaded\n",
      "Initializing Traces\n",
      "-------------------\n",
      "Beginning Inference\n",
      "-------------------\n",
      "********** Accepted: 2 **********\n",
      "Chain 1 Iter 1 : -662.7687151600658\n",
      "Chain 2 Iter 2 : -419.79986840982235\n",
      "********** Accepted: 5 **********\n",
      "********** Accepted: 2 **********\n",
      "Chain 3 Iter 3 : -501.45128634074626\n",
      "Chain 4 Iter 4 : -538.3215519198154\n",
      "Chain 2 Iter 2 : -422.41751906726427\n",
      "Chain 3 Iter 3 : -498.23116012169965\n",
      "********** Accepted: 3 **********\n",
      "********** Accepted: 4 **********\n",
      "Chain 1 Iter 1 : -491.57956305596326\n",
      "Chain 4 Iter 4 : -482.2711577297891\n",
      "Chain 2 Iter 2 : -406.19879206394853\n",
      "Chain 3 Iter 3 : -487.2386255556628\n",
      "Chain 1 Iter 1 : -470.7337829716173\n"
     ]
    }
   ],
   "source": [
    "#MAIN SIMULATION\n",
    "\n",
    "include(\"docker-parallel/RJNUTS.jl\")\n",
    "println(\"Packages Loaded\")\n",
    "\n",
    "filename = \"testparallel.jld\"\n",
    "ITERS = 20\n",
    "CHAINS = Threads.nthreads()\n",
    "\n",
    "#---------------\n",
    "#Hyperparameters\n",
    "#---------------\n",
    "\n",
    "#NUTS hyperparameters\n",
    "Δ_max = 10\n",
    "acc_prob = 0.65\n",
    "m=1\n",
    "m2=1\n",
    "\n",
    "#Network hyperparameters\n",
    "k_real = 4 #Number of hidden nodes per layer\n",
    "k_vector = [0.0 for i=1:k_real]\n",
    "k_vector[k_real] = 1.0\n",
    "\n",
    "#Layer hyperparameters\n",
    "l_range = 8 #Maximum number of layers in the network\n",
    "l_list = [Int(i) for i in 1:l_range]\n",
    "l_real = 1;\n",
    "\n",
    "#Hyperprior Hyperparameters\n",
    "αᵧ = 1 #Regression Noise Shape\n",
    "βᵧ = 1 #Regression Noise Scale/Rate\n",
    "α₁ = 1 #Input Weights, Biases Shape\n",
    "β₁ = 1 #Input Weights, Biases Scale/Rate\n",
    "α₂ = 1 #Hidden & Output Weights Shape\n",
    "β₂ = k_real; #Hidden & Output Weights Scale\n",
    "\n",
    "obs_master = choicemap()::ChoiceMap\n",
    "obs_master[:y] = y_train\n",
    "obs = obs_master;\n",
    "\n",
    "#-----------\n",
    "#Parallelize\n",
    "#-----------\n",
    "\n",
    "println(\"Initializing Traces\")\n",
    "println(\"-------------------\")\n",
    "\n",
    "traces = [[] for i=1:CHAINS]\n",
    "a_acc = [[] for i=1:CHAINS]\n",
    "w_acc = [[] for i=1:CHAINS]\n",
    "\n",
    "for i=1:CHAINS\n",
    "    obs[:l] = ((i-1)%8 + 1)\n",
    "    (new_start,) = generate(interpolator, (x_train,), obs)\n",
    "    push!(traces[i],new_start)\n",
    "end\n",
    "\n",
    "active_trace = [traces[i][1] for i=1:CHAINS]\n",
    "a_active = [[] for i=1:CHAINS]\n",
    "w_active = [[] for i=1:CHAINS]\n",
    "\n",
    "obs = obs_master\n",
    "\n",
    "#--------------\n",
    "#Run Inference\n",
    "#--------------\n",
    "#cd(current_dir)\n",
    "println(\"Beginning Inference\")\n",
    "println(\"-------------------\")\n",
    "#traces, scores = RJNUTS(trace, ITERS)\n",
    "\n",
    "for i2=1:ITERS\n",
    "    Threads.@threads for i=1:CHAINS\n",
    "        active_trace[i],_,_ = @inbounds RJNUTS_parallel(traces[i][i2], i, i2)\n",
    "        push!(traces[i],active_trace[i])\n",
    "        push!(a_acc[i],a_active[i])\n",
    "        push!(w_acc[i],w_active[i])\n",
    "    end\n",
    "    flush(stdout)\n",
    "    serialize(filename, traces)\n",
    "end\n",
    "\n",
    "#serialize(filename, traces)"
   ]
  },
  {
   "cell_type": "code",
   "execution_count": 4,
   "metadata": {},
   "outputs": [
    {
     "data": {
      "text/plain": [
       "4-element Array{Array{Int64,1},1}:\n",
       " [1, 1, 2, 2]\n",
       " [2, 2, 1, 2]\n",
       " [3, 2, 1, 2]\n",
       " [4, 4, 4, 3]"
      ]
     },
     "execution_count": 4,
     "metadata": {},
     "output_type": "execute_result"
    }
   ],
   "source": [
    "ls = [[traces[i][j][:l] for j=1:length(traces[i])] for i=1:CHAINS]"
   ]
  },
  {
   "cell_type": "code",
   "execution_count": 32,
   "metadata": {},
   "outputs": [],
   "source": []
  },
  {
   "cell_type": "code",
   "execution_count": 5,
   "metadata": {},
   "outputs": [],
   "source": [
    "recovered = deserialize(\"testparallel.jld\");"
   ]
  },
  {
   "cell_type": "code",
   "execution_count": 6,
   "metadata": {},
   "outputs": [
    {
     "data": {
      "text/plain": [
       "4-element Array{Any,1}:\n",
       " Gen.DynamicDSLTrace{DynamicDSLFunction{Any}}(DynamicDSLFunction{Any}(Dict{Symbol,Any}(), Dict{Symbol,Any}(), Type[Any], false, Union{Nothing, Some{Any}}[nothing], BNN.##interpolator#253, Bool[0], false), Trie{Any,Gen.ChoiceOrCallRecord}(Dict{Any,Gen.ChoiceOrCallRecord}((:k, 2) => Gen.ChoiceOrCallRecord{Int64}(1, 0.0, NaN, true),(:τᵦ, 2) => Gen.ChoiceOrCallRecord{Float64}(0.632419964960025, -0.632419964960025, NaN, true),(:b, 2) => Gen.ChoiceOrCallRecord{Array{Float64,1}}([1.212476089634327], -1.6128990827520941, NaN, true),(:b, 1) => Gen.ChoiceOrCallRecord{Array{Float64,1}}([-0.16727771877508316, -1.3670719183021043, 1.0795209327417044, 0.651359259837773], -6.5105497195079955, NaN, true),:l => Gen.ChoiceOrCallRecord{Int64}(1, -2.0794415416798357, NaN, true),(:W, 2) => Gen.ChoiceOrCallRecord{Array{Float64,1}}([-0.5545792270094025, 0.5588241354163679, 0.1854093242132301, 1.0007588541134396], -3.915453383400587, NaN, true),(:k, 1) => Gen.ChoiceOrCallRecord{Int64}(4, 0.0, NaN, true),:τᵧ => Gen.ChoiceOrCallRecord{Float64}(0.12249086949082214, -0.12249086949082214, NaN, true),(:τ, 1) => Gen.ChoiceOrCallRecord{Float64}(0.1204614425754181, -0.1204614425754181, NaN, true),(:τᵦ, 1) => Gen.ChoiceOrCallRecord{Float64}(0.32042492459921607, -0.32042492459921607, NaN, true)…), Dict{Any,Trie{Any,Gen.ChoiceOrCallRecord}}()), false, -1846.97630486544, 0.0, ([-0.4137109686381979 -0.38945253629321813 … -0.4105836235309423 -0.40983724599976823; -0.4872401872268243 -0.4872401872268243 … -0.4872401872268243 0.04872401872268244; … ; 0.4406158949990952 0.3785094442337895 … 0.40370253713682325 0.4263763207495546; -0.4079314029822151 0.40567312776811554 … -1.2719486068943562 -0.031236706300908933],), [6.6238146363086186, 4.394021238268456, 4.419830601202817, 1.9299075260338552, 2.0522565755993045, 5.212693046447413, 0.9366999817137163, 1.2429787582100518, 31.6895815560212, 9.031756615619935  …  1.9699654181651605, 2.2692332015510295, -1.3698752554120592, -0.5462210926091504, 8.209873916308974, 23.940700430354045, 0.6628966222530397, 3.645004151507063, 1.4151928296403768, -1.0244969938362958])\n",
       " Gen.DynamicDSLTrace{DynamicDSLFunction{Any}}(DynamicDSLFunction{Any}(Dict{Symbol,Any}(), Dict{Symbol,Any}(), Type[Any], false, Union{Nothing, Some{Any}}[nothing], BNN.##interpolator#253, Bool[0], false), Trie{Any,Gen.ChoiceOrCallRecord}(Dict{Any,Gen.ChoiceOrCallRecord}((:k, 2) => Gen.ChoiceOrCallRecord{Int64}(1, 0.0, NaN, true),(:τᵦ, 2) => Gen.ChoiceOrCallRecord{Float64}(0.6403538176531908, -0.6403538176531908, NaN, true),(:b, 2) => Gen.ChoiceOrCallRecord{Array{Float64,1}}([1.212476089634327], -1.6124972599559613, NaN, true),(:b, 1) => Gen.ChoiceOrCallRecord{Array{Float64,1}}([-0.16727771877508316, -1.3670719183021043, 1.0795209327417044, 0.651359259837773], -6.549202452056324, NaN, true),:l => Gen.ChoiceOrCallRecord{Int64}(1, -2.0794415416798357, NaN, true),(:W, 2) => Gen.ChoiceOrCallRecord{Array{Float64,1}}([-0.5545792270094025, 0.5588241354163679, 0.1854093242132301, 1.0007588541134396], -3.91171074443612, NaN, true),(:k, 1) => Gen.ChoiceOrCallRecord{Int64}(4, 0.0, NaN, true),:τᵧ => Gen.ChoiceOrCallRecord{Float64}(0.01411287996042606, -0.01411287996042606, NaN, true),(:τ, 1) => Gen.ChoiceOrCallRecord{Float64}(0.2297885124560863, -0.2297885124560863, NaN, true),(:τᵦ, 1) => Gen.ChoiceOrCallRecord{Float64}(0.31198931739843516, -0.31198931739843516, NaN, true)…), Dict{Any,Trie{Any,Gen.ChoiceOrCallRecord}}()), false, -1045.6231254583176, 0.0, ([-0.4137109686381979 -0.38945253629321813 … -0.4105836235309423 -0.40983724599976823; -0.4872401872268243 -0.4872401872268243 … -0.4872401872268243 0.04872401872268244; … ; 0.4406158949990952 0.3785094442337895 … 0.40370253713682325 0.4263763207495546; -0.4079314029822151 0.40567312776811554 … -1.2719486068943562 -0.031236706300908933],), [6.6238146363086186, 4.394021238268456, 4.419830601202817, 1.9299075260338552, 2.0522565755993045, 5.212693046447413, 0.9366999817137163, 1.2429787582100518, 31.6895815560212, 9.031756615619935  …  1.9699654181651605, 2.2692332015510295, -1.3698752554120592, -0.5462210926091504, 8.209873916308974, 23.940700430354045, 0.6628966222530397, 3.645004151507063, 1.4151928296403768, -1.0244969938362958])\n",
       " Gen.DynamicDSLTrace{DynamicDSLFunction{Any}}(DynamicDSLFunction{Any}(Dict{Symbol,Any}(), Dict{Symbol,Any}(), Type[Any], false, Union{Nothing, Some{Any}}[nothing], BNN.##interpolator#253, Bool[0], false), Trie{Any,Gen.ChoiceOrCallRecord}(Dict{Any,Gen.ChoiceOrCallRecord}((:τ, 1) => Gen.ChoiceOrCallRecord{Float64}(0.190589996777831, -0.190589996777831, NaN, true),(:k, 2) => Gen.ChoiceOrCallRecord{Int64}(4, 0.0, NaN, true),(:τᵦ, 2) => Gen.ChoiceOrCallRecord{Float64}(1.2708337333368962, -1.2708337333368962, NaN, true),(:τᵦ, 1) => Gen.ChoiceOrCallRecord{Float64}(0.8012115957974432, -0.8012115957974432, NaN, true),(:W, 3) => Gen.ChoiceOrCallRecord{Array{Float64,1}}([-0.5545792270094025, 0.5588241354163679, 0.1854093242132301, 1.0007588541134396], -4.820442043150077, NaN, true),(:b, 2) => Gen.ChoiceOrCallRecord{Array{Float64,1}}([-0.7769806411268746, 0.8963441434638656, 1.5943653385706644, -0.030566658792886666], -5.706346925482746, NaN, true),(:b, 1) => Gen.ChoiceOrCallRecord{Array{Float64,1}}([-0.16727771877508316, -1.3670719183021043, 1.0795209327417044, 0.651359259837773], -5.515727370640764, NaN, true),(:k, 3) => Gen.ChoiceOrCallRecord{Int64}(1, 0.0, NaN, true),(:τᵦ, 3) => Gen.ChoiceOrCallRecord{Float64}(0.09792897808807587, -0.09792897808807587, NaN, true),(:τ, 3) => Gen.ChoiceOrCallRecord{Float64}(5.50195165807188, -2.7617822756378603, NaN, true)…), Dict{Any,Trie{Any,Gen.ChoiceOrCallRecord}}()), false, -1027.856830546827, 0.0, ([-0.4137109686381979 -0.38945253629321813 … -0.4105836235309423 -0.40983724599976823; -0.4872401872268243 -0.4872401872268243 … -0.4872401872268243 0.04872401872268244; … ; 0.4406158949990952 0.3785094442337895 … 0.40370253713682325 0.4263763207495546; -0.4079314029822151 0.40567312776811554 … -1.2719486068943562 -0.031236706300908933],), [3.5447919443305738, 2.713087100953395, 2.9463680196714925, 2.765818784742026, 3.035938871734573, 3.085731793396211, 2.137042356200236, 1.9585443210576798, 20.21582017484152, 3.627455551091166  …  12.779549199163878, 3.2584706494075686, 2.250983012615491, 3.9719621908182097, 3.695678005613315, 19.35306233440078, 1.908751747744468, 3.8387785836566133, 1.8464689931344873, 3.047729077865778])\n",
       " Gen.DynamicDSLTrace{DynamicDSLFunction{Any}}(DynamicDSLFunction{Any}(Dict{Symbol,Any}(), Dict{Symbol,Any}(), Type[Any], false, Union{Nothing, Some{Any}}[nothing], BNN.##interpolator#253, Bool[0], false), Trie{Any,Gen.ChoiceOrCallRecord}(Dict{Any,Gen.ChoiceOrCallRecord}((:τ, 1) => Gen.ChoiceOrCallRecord{Float64}(0.19969080489621874, -0.19969080489621874, NaN, true),(:k, 2) => Gen.ChoiceOrCallRecord{Int64}(4, 0.0, NaN, true),(:τᵦ, 2) => Gen.ChoiceOrCallRecord{Float64}(1.5719562359741588, -1.5719562359741588, NaN, true),(:τᵦ, 1) => Gen.ChoiceOrCallRecord{Float64}(1.166447435628744, -1.166447435628744, NaN, true),(:W, 3) => Gen.ChoiceOrCallRecord{Array{Float64,1}}([-0.5545792270094025, 0.5588241354163679, 0.1854093242132301, 1.0007588541134396], -3.97009147994918, NaN, true),(:b, 2) => Gen.ChoiceOrCallRecord{Array{Float64,1}}([-0.7769806411268746, 0.8963441434638656, 1.5943653385706644, -0.030566658792886666], -5.875778568014255, NaN, true),(:b, 1) => Gen.ChoiceOrCallRecord{Array{Float64,1}}([-0.16727771877508316, -1.3670719183021043, 1.0795209327417044, 0.651359259837773], -5.401239171936589, NaN, true),(:k, 3) => Gen.ChoiceOrCallRecord{Int64}(1, 0.0, NaN, true),(:τᵦ, 3) => Gen.ChoiceOrCallRecord{Float64}(0.8266526179413033, -0.8266526179413033, NaN, true),(:τ, 3) => Gen.ChoiceOrCallRecord{Float64}(3.047794802218278, -2.14824306167446, NaN, true)…), Dict{Any,Trie{Any,Gen.ChoiceOrCallRecord}}()), false, -1027.3626322165253, 0.0, ([-0.4137109686381979 -0.38945253629321813 … -0.4105836235309423 -0.40983724599976823; -0.4872401872268243 -0.4872401872268243 … -0.4872401872268243 0.04872401872268244; … ; 0.4406158949990952 0.3785094442337895 … 0.40370253713682325 0.4263763207495546; -0.4079314029822151 0.40567312776811554 … -1.2719486068943562 -0.031236706300908933],), [3.5447919443305738, 2.713087100953395, 2.9463680196714925, 2.765818784742026, 3.035938871734573, 3.085731793396211, 2.137042356200236, 1.9585443210576798, 20.21582017484152, 3.627455551091166  …  12.779549199163878, 3.2584706494075686, 2.250983012615491, 3.9719621908182097, 3.695678005613315, 19.35306233440078, 1.908751747744468, 3.8387785836566133, 1.8464689931344873, 3.047729077865778])"
      ]
     },
     "execution_count": 6,
     "metadata": {},
     "output_type": "execute_result"
    }
   ],
   "source": [
    "recovered[1]"
   ]
  }
 ],
 "metadata": {
  "kernelspec": {
   "display_name": "Julia 1.4.2",
   "language": "julia",
   "name": "julia-1.4"
  },
  "language_info": {
   "file_extension": ".jl",
   "mimetype": "application/julia",
   "name": "julia",
   "version": "1.4.2"
  }
 },
 "nbformat": 4,
 "nbformat_minor": 4
}
