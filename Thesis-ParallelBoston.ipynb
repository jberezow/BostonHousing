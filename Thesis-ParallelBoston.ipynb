{
 "cells": [
  {
   "cell_type": "code",
   "execution_count": 5,
   "metadata": {},
   "outputs": [],
   "source": [
    "#current_dir = pwd()\n",
    "#app_dir = \"/app\"\n",
    "#cd(app_dir)\n",
    "\n",
    "#push!(LOAD_PATH, app_dir)\n",
    "#push!(LOAD_PATH, current_dir)\n",
    "push!(LOAD_PATH, \"/home/jberez/Projects/BostonHousing/docker-parallel\")\n",
    "\n",
    "using Gen\n",
    "using Distributions\n",
    "using LinearAlgebra\n",
    "using Flux\n",
    "using Random\n",
    "using Distances\n",
    "using JLD\n",
    "using Serialization\n",
    "using StatsBase\n",
    "using BNN\n",
    "\n",
    "include(\"docker-parallel/NUTS.jl\")\n",
    "include(\"docker-parallel/RJNUTS.jl\")\n",
    "include(\"docker-parallel/utils.jl\")\n",
    "include(\"docker-parallel/proposals.jl\")\n",
    "include(\"docker-parallel/LoadData.jl\");"
   ]
  },
  {
   "cell_type": "code",
   "execution_count": 2,
   "metadata": {},
   "outputs": [
    {
     "name": "stdout",
     "output_type": "stream",
     "text": [
      "4\n"
     ]
    }
   ],
   "source": [
    "println(Threads.nthreads())"
   ]
  },
  {
   "cell_type": "code",
   "execution_count": 3,
   "metadata": {},
   "outputs": [],
   "source": [
    "function RJNUTS_parallel2(trace, chain, ci)\n",
    "    \n",
    "    (trace, a_acc) = layer_parameter(trace)\n",
    "    trace  = gibbs_hyperparameters(trace)\n",
    "    trace  = gibbs_noise(trace)\n",
    "    (trace, w_acc)  = layer_nuts(trace)\n",
    "    #(trace, w_acc) = nuts_parameters(trace)\n",
    "    println(\"Chain $chain Iter $ci : $(get_score(trace))\")\n",
    "\n",
    "    return trace, a_acc, w_acc\n",
    "end;"
   ]
  },
  {
   "cell_type": "code",
   "execution_count": 33,
   "metadata": {},
   "outputs": [],
   "source": [
    "function write_output()\n",
    "    for i=1:CHAINS\n",
    "        current_file = join([filename_pre,\"$i\", filename_end])\n",
    "        serialize(current_file, traces[i])\n",
    "    end\n",
    "end;"
   ]
  },
  {
   "cell_type": "code",
   "execution_count": 3,
   "metadata": {},
   "outputs": [
    {
     "name": "stdout",
     "output_type": "stream",
     "text": [
      "Packages Loaded\n",
      "Initializing Traces\n",
      "-------------------\n",
      "Chain 1 starting score: -473.5031595473336\n",
      "Chain 2 starting score: -751.4651425564474\n",
      "Chain 3 starting score: -557.2148841305553\n",
      "Chain 4 starting score: -522.7338440985347\n",
      "[1, 2, 3, 4]\n"
     ]
    }
   ],
   "source": [
    "#MAIN SIMULATION\n",
    "\n",
    "include(\"docker-parallel/RJNUTS.jl\")\n",
    "include(\"docker-parallel/utils.jl\")\n",
    "println(\"Packages Loaded\")\n",
    "\n",
    "filename = \"testparallel.jld\"\n",
    "filename_pre = \"trace\"\n",
    "filename_end = \"output.jld\"\n",
    "ITERS = 10\n",
    "CHAINS = Threads.nthreads()\n",
    "\n",
    "#---------------\n",
    "#Hyperparameters\n",
    "#---------------\n",
    "\n",
    "#NUTS hyperparameters\n",
    "Δ_max = 100\n",
    "acc_prob = 0.15\n",
    "m=1\n",
    "m2=1\n",
    "\n",
    "#Network hyperparameters\n",
    "k_real = 4 #Number of hidden nodes per layer\n",
    "k_vector = [0.0 for i=1:k_real]\n",
    "k_vector[k_real] = 1.0\n",
    "\n",
    "#Layer hyperparameters\n",
    "l_range = 8 #Maximum number of layers in the network\n",
    "l_list = [Int(i) for i in 1:l_range]\n",
    "l_real = 1;\n",
    "\n",
    "#Hyperprior Hyperparameters\n",
    "αᵧ = 1 #Regression Noise Shape\n",
    "βᵧ = 1 #Regression Noise Scale/Rate\n",
    "α₁ = 1 #Input Weights, Biases Shape\n",
    "β₁ = 1 #Input Weights, Biases Scale/Rate\n",
    "α₂ = 1 #Hidden & Output Weights Shape\n",
    "β₂ = k_real; #Hidden & Output Weights Scale\n",
    "\n",
    "obs_master = choicemap()::ChoiceMap\n",
    "obs_master[:y] = y_train\n",
    "obs = obs_master;\n",
    "\n",
    "#-----------\n",
    "#Parallelize\n",
    "#-----------\n",
    "\n",
    "println(\"Initializing Traces\")\n",
    "println(\"-------------------\")\n",
    "\n",
    "traces = [[] for i=1:CHAINS]\n",
    "a_acc = [[] for i=1:CHAINS]\n",
    "w_acc = [[] for i=1:CHAINS]\n",
    "\n",
    "for i=1:CHAINS\n",
    "    obs[:l] = ((i-1)%8 + 1)\n",
    "    #(new_start,) = generate(interpolator, (x_train,), obs)\n",
    "    new_start = find_best_trace(x_train,y_train,1000,obs)\n",
    "    score = get_score(new_start)\n",
    "    println(\"Chain $i starting score: $score\")\n",
    "    push!(traces[i],new_start)\n",
    "end\n",
    "\n",
    "active_trace = [traces[i][1] for i=1:CHAINS]\n",
    "a_active = [[] for i=1:CHAINS]\n",
    "w_active = [[] for i=1:CHAINS]\n",
    "\n",
    "obs = obs_master;\n",
    "println([traces[i][1][:l] for i=1:CHAINS])"
   ]
  },
  {
   "cell_type": "code",
   "execution_count": 6,
   "metadata": {},
   "outputs": [
    {
     "name": "stdout",
     "output_type": "stream",
     "text": [
      "Beginning Inference\n",
      "-------------------\n",
      "Chain 1 Iter 1 : -409.0464972173688\n",
      "Chain 1 Iter 2 : -391.503428091891\n",
      "Chain 2 Iter 1 : -434.27995651718817\n",
      "Chain 2 Iter 2 : -406.4446903851532\n",
      "Chain 3 Iter 1 : -505.0913983358673\n",
      "Chain 3 Iter 2 : -501.2692384296353\n",
      "Chain 1 Iter 3 : -404.6571758359953\n",
      "Chain 1 Iter 4 : -384.4385676874225\n",
      "Chain 3 Iter 3 : -503.93177749933216\n",
      "Chain 3 Iter 4 : -501.5699186047216\n",
      "Chain 3 Iter 5 : -491.9526251331986\n",
      "Chain 4 Iter 1 : -502.632248902687\n",
      "Chain 3 Iter 6 : -485.6810545122938\n"
     ]
    },
    {
     "ename": "TaskFailedException",
     "evalue": "TaskFailedException:\nInterruptException:\nStacktrace:\n [1] copy at ./array.jl:352 [inlined]\n [2] copy_oftype at /builddir/build/BUILD/julia/build/usr/share/julia/stdlib/v1.4/LinearAlgebra/src/LinearAlgebra.jl:347 [inlined]\n [3] cholcopy at /builddir/build/BUILD/julia/build/usr/share/julia/stdlib/v1.4/LinearAlgebra/src/cholesky.jl:139 [inlined]\n [4] #cholesky#136 at /builddir/build/BUILD/julia/build/usr/share/julia/stdlib/v1.4/LinearAlgebra/src/cholesky.jl:348 [inlined]\n [5] cholesky at /builddir/build/BUILD/julia/build/usr/share/julia/stdlib/v1.4/LinearAlgebra/src/cholesky.jl:348 [inlined] (repeats 2 times)\n [6] PDMat at /home/jberez/.julia/packages/PDMats/G0Prn/src/pdmat.jl:19 [inlined]\n [7] inv(::PDMats.PDMat{Float64,Array{Float64,2}}) at /home/jberez/.julia/packages/PDMats/G0Prn/src/pdmat.jl:56\n [8] invcov at /home/jberez/.julia/packages/Distributions/jFoHB/src/multivariate/mvnormal.jl:261 [inlined]\n [9] logpdf_grad at /home/jberez/.julia/packages/Gen/5N1x4/src/modeling_library/distributions/mvnormal.jl:21 [inlined]\n [10] special_reverse_exec!(::ReverseDiff.SpecialInstruction{Gen.MultivariateNormal,Tuple{Array{Float64,1},Array{Float64,1},Diagonal{Float64,Array{Float64,1}}},ReverseDiff.TrackedReal{Float64,Float64,Nothing},Nothing}) at /home/jberez/.julia/packages/Gen/5N1x4/src/dynamic/backprop.jl:10\n [11] reverse_exec!(::ReverseDiff.SpecialInstruction{Gen.MultivariateNormal,Tuple{Array{Float64,1},Array{Float64,1},Diagonal{Float64,Array{Float64,1}}},ReverseDiff.TrackedReal{Float64,Float64,Nothing},Nothing}) at /home/jberez/.julia/packages/ReverseDiff/jFRo1/src/tape.jl:93\n [12] reverse_pass!(::Array{ReverseDiff.AbstractInstruction,1}) at /home/jberez/.julia/packages/ReverseDiff/jFRo1/src/tape.jl:87\n [13] reverse_pass! at /home/jberez/.julia/packages/Gen/5N1x4/src/backprop.jl:12 [inlined]\n [14] choice_gradients(::Gen.DynamicDSLTrace{DynamicDSLFunction{Any}}, ::DynamicSelection, ::Nothing) at /home/jberez/.julia/packages/Gen/5N1x4/src/dynamic/backprop.jl:382\n [15] (::var\"#∇L#53\"{DynamicSelection,Tuple{Transpose{Float64,Array{Float64,2}}},Nothing,Tuple{NoChange},DynamicChoiceMap})(::Array{Float64,1}) at /home/jberez/Projects/BostonHousing/docker-parallel/NUTS.jl:23\n [16] leapfrog at /home/jberez/Projects/BostonHousing/docker-parallel/NUTS.jl:31 [inlined]\n [17] (::var\"#build_tree#56\"{var\"#L#52\"{Tuple{Transpose{Float64,Array{Float64,2}}},Tuple{NoChange},DynamicChoiceMap},var\"#∇L#53\"{DynamicSelection,Tuple{Transpose{Float64,Array{Float64,2}}},Nothing,Tuple{NoChange},DynamicChoiceMap},var\"#leapfrog#54\"{var\"#∇L#53\"{DynamicSelection,Tuple{Transpose{Float64,Array{Float64,2}}},Nothing,Tuple{NoChange},DynamicChoiceMap}}})(::Array{Float64,1}, ::Array{Float64,1}, ::Float64, ::Int64, ::Int64, ::Float64, ::Array{Float64,1}, ::Array{Float64,1}) at /home/jberez/Projects/BostonHousing/docker-parallel/NUTS.jl:62\n [18] (::var\"#build_tree#56\"{var\"#L#52\"{Tuple{Transpose{Float64,Array{Float64,2}}},Tuple{NoChange},DynamicChoiceMap},var\"#∇L#53\"{DynamicSelection,Tuple{Transpose{Float64,Array{Float64,2}}},Nothing,Tuple{NoChange},DynamicChoiceMap},var\"#leapfrog#54\"{var\"#∇L#53\"{DynamicSelection,Tuple{Transpose{Float64,Array{Float64,2}}},Nothing,Tuple{NoChange},DynamicChoiceMap}}})(::Array{Float64,1}, ::Array{Float64,1}, ::Float64, ::Int64, ::Int64, ::Float64, ::Array{Float64,1}, ::Array{Float64,1}) at /home/jberez/Projects/BostonHousing/docker-parallel/NUTS.jl:74 (repeats 2 times)\n [19] (::var\"#build_tree#56\"{var\"#L#52\"{Tuple{Transpose{Float64,Array{Float64,2}}},Tuple{NoChange},DynamicChoiceMap},var\"#∇L#53\"{DynamicSelection,Tuple{Transpose{Float64,Array{Float64,2}}},Nothing,Tuple{NoChange},DynamicChoiceMap},var\"#leapfrog#54\"{var\"#∇L#53\"{DynamicSelection,Tuple{Transpose{Float64,Array{Float64,2}}},Nothing,Tuple{NoChange},DynamicChoiceMap}}})(::Array{Float64,1}, ::Array{Float64,1}, ::Float64, ::Int64, ::Int64, ::Float64, ::Array{Float64,1}, ::Array{Float64,1}) at /home/jberez/Projects/BostonHousing/docker-parallel/NUTS.jl:77 (repeats 3 times)\n [20] (::var\"#build_tree#56\"{var\"#L#52\"{Tuple{Transpose{Float64,Array{Float64,2}}},Tuple{NoChange},DynamicChoiceMap},var\"#∇L#53\"{DynamicSelection,Tuple{Transpose{Float64,Array{Float64,2}}},Nothing,Tuple{NoChange},DynamicChoiceMap},var\"#leapfrog#54\"{var\"#∇L#53\"{DynamicSelection,Tuple{Transpose{Float64,Array{Float64,2}}},Nothing,Tuple{NoChange},DynamicChoiceMap}}})(::Array{Float64,1}, ::Array{Float64,1}, ::Float64, ::Int64, ::Int64, ::Float64, ::Array{Float64,1}, ::Array{Float64,1}) at /home/jberez/Projects/BostonHousing/docker-parallel/NUTS.jl:74\n [21] NUTS(::Gen.DynamicDSLTrace{DynamicDSLFunction{Any}}, ::DynamicSelection, ::Float64, ::Int64, ::Int64, ::Bool) at /home/jberez/Projects/BostonHousing/docker-parallel/NUTS.jl:115\n [22] layer_nuts(::Gen.DynamicDSLTrace{DynamicDSLFunction{Any}}, ::String) at /home/jberez/Projects/BostonHousing/docker-parallel/RJNUTS.jl:108\n [23] layer_parameter(::Gen.DynamicDSLTrace{DynamicDSLFunction{Any}}) at /home/jberez/Projects/BostonHousing/docker-parallel/RJNUTS.jl:153\n [24] RJNUTS_parallel(::Gen.DynamicDSLTrace{DynamicDSLFunction{Any}}, ::Int64, ::Int64) at /home/jberez/Projects/BostonHousing/docker-parallel/RJNUTS.jl:199\n [25] macro expansion at ./In[6]:12 [inlined]\n [26] (::var\"#505#threadsfor_fun#74\"{UnitRange{Int64}})(::Bool) at ./threadingconstructs.jl:61\n [27] (::var\"#505#threadsfor_fun#74\"{UnitRange{Int64}})() at ./threadingconstructs.jl:28",
     "output_type": "error",
     "traceback": [
      "TaskFailedException:\nInterruptException:\nStacktrace:\n [1] copy at ./array.jl:352 [inlined]\n [2] copy_oftype at /builddir/build/BUILD/julia/build/usr/share/julia/stdlib/v1.4/LinearAlgebra/src/LinearAlgebra.jl:347 [inlined]\n [3] cholcopy at /builddir/build/BUILD/julia/build/usr/share/julia/stdlib/v1.4/LinearAlgebra/src/cholesky.jl:139 [inlined]\n [4] #cholesky#136 at /builddir/build/BUILD/julia/build/usr/share/julia/stdlib/v1.4/LinearAlgebra/src/cholesky.jl:348 [inlined]\n [5] cholesky at /builddir/build/BUILD/julia/build/usr/share/julia/stdlib/v1.4/LinearAlgebra/src/cholesky.jl:348 [inlined] (repeats 2 times)\n [6] PDMat at /home/jberez/.julia/packages/PDMats/G0Prn/src/pdmat.jl:19 [inlined]\n [7] inv(::PDMats.PDMat{Float64,Array{Float64,2}}) at /home/jberez/.julia/packages/PDMats/G0Prn/src/pdmat.jl:56\n [8] invcov at /home/jberez/.julia/packages/Distributions/jFoHB/src/multivariate/mvnormal.jl:261 [inlined]\n [9] logpdf_grad at /home/jberez/.julia/packages/Gen/5N1x4/src/modeling_library/distributions/mvnormal.jl:21 [inlined]\n [10] special_reverse_exec!(::ReverseDiff.SpecialInstruction{Gen.MultivariateNormal,Tuple{Array{Float64,1},Array{Float64,1},Diagonal{Float64,Array{Float64,1}}},ReverseDiff.TrackedReal{Float64,Float64,Nothing},Nothing}) at /home/jberez/.julia/packages/Gen/5N1x4/src/dynamic/backprop.jl:10\n [11] reverse_exec!(::ReverseDiff.SpecialInstruction{Gen.MultivariateNormal,Tuple{Array{Float64,1},Array{Float64,1},Diagonal{Float64,Array{Float64,1}}},ReverseDiff.TrackedReal{Float64,Float64,Nothing},Nothing}) at /home/jberez/.julia/packages/ReverseDiff/jFRo1/src/tape.jl:93\n [12] reverse_pass!(::Array{ReverseDiff.AbstractInstruction,1}) at /home/jberez/.julia/packages/ReverseDiff/jFRo1/src/tape.jl:87\n [13] reverse_pass! at /home/jberez/.julia/packages/Gen/5N1x4/src/backprop.jl:12 [inlined]\n [14] choice_gradients(::Gen.DynamicDSLTrace{DynamicDSLFunction{Any}}, ::DynamicSelection, ::Nothing) at /home/jberez/.julia/packages/Gen/5N1x4/src/dynamic/backprop.jl:382\n [15] (::var\"#∇L#53\"{DynamicSelection,Tuple{Transpose{Float64,Array{Float64,2}}},Nothing,Tuple{NoChange},DynamicChoiceMap})(::Array{Float64,1}) at /home/jberez/Projects/BostonHousing/docker-parallel/NUTS.jl:23\n [16] leapfrog at /home/jberez/Projects/BostonHousing/docker-parallel/NUTS.jl:31 [inlined]\n [17] (::var\"#build_tree#56\"{var\"#L#52\"{Tuple{Transpose{Float64,Array{Float64,2}}},Tuple{NoChange},DynamicChoiceMap},var\"#∇L#53\"{DynamicSelection,Tuple{Transpose{Float64,Array{Float64,2}}},Nothing,Tuple{NoChange},DynamicChoiceMap},var\"#leapfrog#54\"{var\"#∇L#53\"{DynamicSelection,Tuple{Transpose{Float64,Array{Float64,2}}},Nothing,Tuple{NoChange},DynamicChoiceMap}}})(::Array{Float64,1}, ::Array{Float64,1}, ::Float64, ::Int64, ::Int64, ::Float64, ::Array{Float64,1}, ::Array{Float64,1}) at /home/jberez/Projects/BostonHousing/docker-parallel/NUTS.jl:62\n [18] (::var\"#build_tree#56\"{var\"#L#52\"{Tuple{Transpose{Float64,Array{Float64,2}}},Tuple{NoChange},DynamicChoiceMap},var\"#∇L#53\"{DynamicSelection,Tuple{Transpose{Float64,Array{Float64,2}}},Nothing,Tuple{NoChange},DynamicChoiceMap},var\"#leapfrog#54\"{var\"#∇L#53\"{DynamicSelection,Tuple{Transpose{Float64,Array{Float64,2}}},Nothing,Tuple{NoChange},DynamicChoiceMap}}})(::Array{Float64,1}, ::Array{Float64,1}, ::Float64, ::Int64, ::Int64, ::Float64, ::Array{Float64,1}, ::Array{Float64,1}) at /home/jberez/Projects/BostonHousing/docker-parallel/NUTS.jl:74 (repeats 2 times)\n [19] (::var\"#build_tree#56\"{var\"#L#52\"{Tuple{Transpose{Float64,Array{Float64,2}}},Tuple{NoChange},DynamicChoiceMap},var\"#∇L#53\"{DynamicSelection,Tuple{Transpose{Float64,Array{Float64,2}}},Nothing,Tuple{NoChange},DynamicChoiceMap},var\"#leapfrog#54\"{var\"#∇L#53\"{DynamicSelection,Tuple{Transpose{Float64,Array{Float64,2}}},Nothing,Tuple{NoChange},DynamicChoiceMap}}})(::Array{Float64,1}, ::Array{Float64,1}, ::Float64, ::Int64, ::Int64, ::Float64, ::Array{Float64,1}, ::Array{Float64,1}) at /home/jberez/Projects/BostonHousing/docker-parallel/NUTS.jl:77 (repeats 3 times)\n [20] (::var\"#build_tree#56\"{var\"#L#52\"{Tuple{Transpose{Float64,Array{Float64,2}}},Tuple{NoChange},DynamicChoiceMap},var\"#∇L#53\"{DynamicSelection,Tuple{Transpose{Float64,Array{Float64,2}}},Nothing,Tuple{NoChange},DynamicChoiceMap},var\"#leapfrog#54\"{var\"#∇L#53\"{DynamicSelection,Tuple{Transpose{Float64,Array{Float64,2}}},Nothing,Tuple{NoChange},DynamicChoiceMap}}})(::Array{Float64,1}, ::Array{Float64,1}, ::Float64, ::Int64, ::Int64, ::Float64, ::Array{Float64,1}, ::Array{Float64,1}) at /home/jberez/Projects/BostonHousing/docker-parallel/NUTS.jl:74\n [21] NUTS(::Gen.DynamicDSLTrace{DynamicDSLFunction{Any}}, ::DynamicSelection, ::Float64, ::Int64, ::Int64, ::Bool) at /home/jberez/Projects/BostonHousing/docker-parallel/NUTS.jl:115\n [22] layer_nuts(::Gen.DynamicDSLTrace{DynamicDSLFunction{Any}}, ::String) at /home/jberez/Projects/BostonHousing/docker-parallel/RJNUTS.jl:108\n [23] layer_parameter(::Gen.DynamicDSLTrace{DynamicDSLFunction{Any}}) at /home/jberez/Projects/BostonHousing/docker-parallel/RJNUTS.jl:153\n [24] RJNUTS_parallel(::Gen.DynamicDSLTrace{DynamicDSLFunction{Any}}, ::Int64, ::Int64) at /home/jberez/Projects/BostonHousing/docker-parallel/RJNUTS.jl:199\n [25] macro expansion at ./In[6]:12 [inlined]\n [26] (::var\"#505#threadsfor_fun#74\"{UnitRange{Int64}})(::Bool) at ./threadingconstructs.jl:61\n [27] (::var\"#505#threadsfor_fun#74\"{UnitRange{Int64}})() at ./threadingconstructs.jl:28",
      "",
      "Stacktrace:",
      " [1] wait(::Task) at ./task.jl:267",
      " [2] macro expansion at ./threadingconstructs.jl:69 [inlined]",
      " [3] top-level scope at ./In[6]:10"
     ]
    },
    {
     "name": "stdout",
     "output_type": "stream",
     "text": [
      "Chain 3 Iter 7 : -482.65061586122533\n"
     ]
    }
   ],
   "source": [
    "#--------------\n",
    "#Run Inference\n",
    "#--------------\n",
    "#cd(current_dir)\n",
    "println(\"Beginning Inference\")\n",
    "println(\"-------------------\")\n",
    "#traces, scores = RJNUTS(trace, ITERS)\n",
    "\n",
    "try\n",
    "    Threads.@threads for i=1:CHAINS\n",
    "        @inbounds for i2=1:ITERS\n",
    "            active_trace[i],_,_ = RJNUTS_parallel(traces[i][i2], i, i2)\n",
    "            push!(traces[i],active_trace[i])\n",
    "            push!(a_acc[i],a_active[i])\n",
    "            push!(w_acc[i],w_active[i])\n",
    "        end\n",
    "        flush(stdout)\n",
    "        #serialize(filename, traces)\n",
    "    end\n",
    "finally\n",
    "    write_output()\n",
    "end"
   ]
  },
  {
   "cell_type": "code",
   "execution_count": 7,
   "metadata": {},
   "outputs": [],
   "source": [
    "recovered = []\n",
    "for i=1:CHAINS\n",
    "    current_file = join([filename_pre,\"$i\", filename_end])\n",
    "    push!(recovered, deserialize(current_file))\n",
    "end;"
   ]
  },
  {
   "cell_type": "code",
   "execution_count": 8,
   "metadata": {},
   "outputs": [
    {
     "data": {
      "image/png": "[encoded data removed]",
      "text/plain": [
       "Figure(PyObject <Figure size 640x480 with 1 Axes>)"
      ]
     },
     "metadata": {},
     "output_type": "display_data"
    },
    {
     "name": "stdout",
     "output_type": "stream",
     "text": [
      "Chain 2 Iter 3 : -397.7376511211198\n",
      "Chain 3 Iter 8 : -471.9532367783729\n",
      "Chain 2 Iter 4 : -389.4909839614667\n",
      "Chain 2 Iter 5 : -386.0291659660945\n",
      "Chain 4 Iter 2 : -500.6502510850544\n",
      "Chain 2 Iter 6 : -378.2034398215478\n",
      "Chain 2 Iter 7 : -377.59412565627997\n",
      "Chain 2 Iter 8 : -378.31600205537535\n",
      "Chain 4 Iter 3 : -481.2402778169561\n",
      "Chain 2 Iter 9 : -379.4406051715602\n",
      "Chain 2 Iter 10 : -376.44651564195254\n",
      "Chain 4 Iter 4 : -475.4313829769724\n",
      "Chain 4 Iter 5 : -469.50748061150216\n",
      "Chain 4 Iter 6 : -467.7440013523659\n",
      "Chain 4 Iter 7 : -459.8652901614187\n",
      "Chain 4 Iter 8 : -458.2255666320351\n",
      "Chain 4 Iter 9 : -458.85684995630106\n",
      "Chain 4 Iter 10 : -458.9999305620237\n"
     ]
    }
   ],
   "source": [
    "#Plot Log Posterior for Each Chain\n",
    "traces = recovered\n",
    "\n",
    "using PyPlot\n",
    "\n",
    "for i=1:CHAINS\n",
    "    scores = zeros(length(traces[i]))\n",
    "    for j=1:length(traces[i])\n",
    "        trace = traces[i][j]\n",
    "        scores[j] = get_score(trace)\n",
    "    end\n",
    "    plot(scores)\n",
    "end\n",
    "plt.title(\"Parallel RJMCMC Boston Housing\")\n",
    "plt.xlabel(\"Iteration\")\n",
    "plt.ylabel(\"Log Likelihood\");\n",
    "#plt.ylim(-2000,0)\n",
    "\n",
    "#plt.legend();"
   ]
  },
  {
   "cell_type": "code",
   "execution_count": null,
   "metadata": {},
   "outputs": [],
   "source": []
  }
 ],
 "metadata": {
  "kernelspec": {
   "display_name": "Julia 1.4.2",
   "language": "julia",
   "name": "julia-1.4"
  },
  "language_info": {
   "file_extension": ".jl",
   "mimetype": "application/julia",
   "name": "julia",
   "version": "1.4.2"
  }
 },
 "nbformat": 4,
 "nbformat_minor": 4
}
